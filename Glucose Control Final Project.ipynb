{
 "cells": [
  {
   "cell_type": "markdown",
   "metadata": {},
   "source": [
    "# Glucose Control in Patients With Type I Diabetes\n",
    "$\\hspace{10mm}$Lizett Pink, Andrew Spitzer, Travis Tredway & Kyle Vachon\n",
    "\n",
    "$\\hspace{10mm}$Prof. Jeffrey C Kantor\n",
    "\n",
    "$\\hspace{10mm}$University of Notre Dame\n",
    "\n",
    "$\\hspace{10mm}$Department of Chemical and Biomolecular Engineering\n",
    "\n",
    "$\\hspace{10mm}$Chemical Process Control\n",
    "\n",
    "$\\hspace{10mm}$4 May 2017\n",
    "\n",
    "## Contents\n",
    "\n",
    "* [1. Problem Statement](#Section00)\n",
    "* [2. Theoretical Development](#Section01)\n",
    "     * [A. Governing Equations](#Section02)\n",
    "     * [B. Block Diagram](#Section03)\n",
    "     * [C. PID Control](#Section04)\n",
    "* [3. Positive Disturbance: Exposure to a Meal](#Section05)\n",
    "     * [A. Initial Conditions - Varied Insulin Input Rate by Controller](#Section06)\n",
    "     * [B. Closer Look at Ideal Insulin Input Rate](#Section07)\n",
    "     * [C. Fixed Time Grid Simulation](#Section08)\n",
    "     * [D. PI Controlled Insulin Input Rate](#Section09)\n",
    "* [4. Negative Disturbance: Exposure to Exercise](#Section10)\n",
    "     * [A. Fixed Time Grid Simulation](#Section11)\n",
    "     * [B. PI Controlled Insulin Input Rate](#Section12)\n",
    "* [5. Combined Disturbances: Snack, Exercise, Meal](#Section13)\n",
    "     * [A. Fixed Time Grid Simulation](#Section14)\n",
    "     * [B. PI Controlled Insulin Input Rate](#Section15)\n",
    "     * [C. Interactive PID Controlled Simulation](#Section16)\n",
    "* [6. Conclusion](#Section17)"
   ]
  },
  {
   "cell_type": "code",
   "execution_count": null,
   "metadata": {
    "collapsed": true
   },
   "outputs": [],
   "source": []
  }
 ],
 "metadata": {
  "anaconda-cloud": {},
  "kernelspec": {
   "display_name": "Python [conda root]",
   "language": "python",
   "name": "conda-root-py"
  },
  "language_info": {
   "codemirror_mode": {
    "name": "ipython",
    "version": 3
   },
   "file_extension": ".py",
   "mimetype": "text/x-python",
   "name": "python",
   "nbconvert_exporter": "python",
   "pygments_lexer": "ipython3",
   "version": "3.5.2"
  }
 },
 "nbformat": 4,
 "nbformat_minor": 1
}
